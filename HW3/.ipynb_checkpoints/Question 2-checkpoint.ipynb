{
 "cells": [
  {
   "cell_type": "code",
   "execution_count": 79,
   "metadata": {},
   "outputs": [],
   "source": [
    "import numpy as np\n",
    "import pandas as pd\n",
    "from scipy.spatial.distance import cdist"
   ]
  },
  {
   "cell_type": "code",
   "execution_count": 80,
   "metadata": {},
   "outputs": [
    {
     "data": {
      "text/plain": [
       "(1373, 5476)"
      ]
     },
     "execution_count": 80,
     "metadata": {},
     "output_type": "execute_result"
    }
   ],
   "source": [
    "sdoc = np.load(\"data/science2k-doc-word.npy\")\n",
    "sdoc.shape"
   ]
  },
  {
   "cell_type": "code",
   "execution_count": 81,
   "metadata": {},
   "outputs": [],
   "source": [
    "sdoc = pd.DataFrame(sdoc)"
   ]
  },
  {
   "cell_type": "code",
   "execution_count": 83,
   "metadata": {},
   "outputs": [],
   "source": [
    "# calculate total distance\n",
    "def km_error(df1):\n",
    "    total_dis = 0\n",
    "    X = df1.groupby('label').mean()\n",
    "    Z = np.array(X)\n",
    "    for i, x in enumerate(Z):\n",
    "        df = df1.copy()\n",
    "        d = df[df.label == i]\n",
    "        dis = cdist(d.drop('label', axis = 1), x.reshape(1,-1), 'euclidean')\n",
    "        total_dis += sum(dis)\n",
    "    return total_dis[0]"
   ]
  },
  {
   "cell_type": "code",
   "execution_count": 84,
   "metadata": {},
   "outputs": [],
   "source": [
    "from sklearn.cluster import KMeans\n",
    "import numpy as np"
   ]
  },
  {
   "cell_type": "code",
   "execution_count": 85,
   "metadata": {},
   "outputs": [
    {
     "name": "stdout",
     "output_type": "stream",
     "text": [
      "cluster 2 error 211789.79089102792\n",
      "cluster 3 error 209323.87071948452\n",
      "cluster 4 error 208526.90691437514\n",
      "cluster 5 error 208134.82206325192\n",
      "cluster 6 error 207296.03018906165\n",
      "cluster 7 error 206873.24896295991\n",
      "cluster 8 error 206360.8173431936\n",
      "cluster 9 error 206332.757901656\n",
      "cluster 10 error 205704.26211145474\n",
      "cluster 11 error 205594.25561705336\n",
      "cluster 12 error 205583.84919467373\n",
      "cluster 13 error 205433.84831757174\n",
      "cluster 14 error 204494.90556770342\n",
      "cluster 15 error 204947.5537942867\n",
      "cluster 16 error 204241.0950741877\n",
      "cluster 17 error 204478.93545369722\n",
      "cluster 18 error 204151.48365093337\n",
      "cluster 19 error 203708.37685529623\n",
      "cluster 20 error 203500.9295086367\n"
     ]
    }
   ],
   "source": [
    "dis_ls = []\n",
    "for k in range(2,21):\n",
    "    train = sdoc.copy()\n",
    "    km = KMeans(n_clusters = k, random_state = 0).fit(train)\n",
    "    train['label'] = km.labels_\n",
    "    td = km_error(train)\n",
    "    print('cluster', str(k), 'error', td)\n",
    "    dis_ls.append(td)   "
   ]
  },
  {
   "cell_type": "code",
   "execution_count": 86,
   "metadata": {},
   "outputs": [
    {
     "name": "stdout",
     "output_type": "stream",
     "text": [
      "cluster  3 error 209323.87071948452\n"
     ]
    }
   ],
   "source": [
    "train = sdoc.copy()\n",
    "km = KMeans(n_clusters = 3, random_state = 0).fit(train)\n",
    "train['label'] = km.labels_\n",
    "td = km_error(train)\n",
    "print('cluster ', str(3), 'error', td)"
   ]
  },
  {
   "cell_type": "code",
   "execution_count": null,
   "metadata": {},
   "outputs": [],
   "source": [
    "def top10(df):\n",
    "    z = df.drop('label',axis = 1)\n",
    "    m = z.mean(axis = 0)\n",
    "    dis_m = cdist(z, m.reshape(1,-1), 'euclidean')\n",
    "    dis = np.array([a[0] for a in dis_m])\n",
    "    ind = np.argsort(dis)[::-1]\n",
    "    \n",
    "    if len(dis) >= 10:\n",
    "        return z.iloc[ind[-10:]]\n",
    "    else:\n",
    "        return z.iloc[ind]\n",
    "    \n",
    "top_10 = train.groupby('label').apply(top10)"
   ]
  },
  {
   "cell_type": "code",
   "execution_count": null,
   "metadata": {},
   "outputs": [],
   "source": [
    "title = []\n",
    "for line in open(\"data/science2k-titles.txt\"):\n",
    "    line = line.strip('\\n')\n",
    "    title.append(line)"
   ]
  },
  {
   "cell_type": "code",
   "execution_count": null,
   "metadata": {},
   "outputs": [],
   "source": [
    "title = pd.DataFrame(title)\n",
    "title = title.iloc[list(top_10.index.get_level_values(1))]\n",
    "title.set_index(top_10.index)"
   ]
  },
  {
   "cell_type": "markdown",
   "metadata": {},
   "source": [
    "question 2 part B"
   ]
  },
  {
   "cell_type": "code",
   "execution_count": 89,
   "metadata": {},
   "outputs": [
    {
     "data": {
      "text/plain": [
       "(5476, 1373)"
      ]
     },
     "execution_count": 89,
     "metadata": {},
     "output_type": "execute_result"
    }
   ],
   "source": [
    "term = np.load(\"data/science2k-word-doc.npy\")\n",
    "term.shape"
   ]
  },
  {
   "cell_type": "code",
   "execution_count": 90,
   "metadata": {},
   "outputs": [],
   "source": [
    "term = pd.DataFrame(term)"
   ]
  },
  {
   "cell_type": "code",
   "execution_count": 91,
   "metadata": {},
   "outputs": [],
   "source": [
    "def km_error(df1):\n",
    "    total_dis = 0\n",
    "    X = df1.groupby('label').mean()\n",
    "    Z = np.array(X)\n",
    "    for i, x in enumerate(Z):\n",
    "        df = df1.copy()\n",
    "        d = df[df.label == i]\n",
    "        dis = cdist(d.drop('label', axis = 1), x.reshape(1,-1), 'euclidean')\n",
    "        total_dis += sum(dis)\n",
    "    return total_dis[0]"
   ]
  },
  {
   "cell_type": "code",
   "execution_count": 92,
   "metadata": {},
   "outputs": [
    {
     "name": "stdout",
     "output_type": "stream",
     "text": [
      "cluster 2 error 396156.01716650825\n",
      "cluster 3 error 393795.80582557374\n",
      "cluster 4 error 393679.8972904857\n",
      "cluster 5 error 391664.62995578436\n",
      "cluster 6 error 390454.5102117503\n",
      "cluster 7 error 389902.52240952256\n",
      "cluster 8 error 389299.1223250805\n",
      "cluster 9 error 389403.53928272764\n",
      "cluster 10 error 388792.15276354755\n",
      "cluster 11 error 388511.03558790457\n",
      "cluster 12 error 387554.5831533615\n",
      "cluster 13 error 387300.65011879255\n",
      "cluster 14 error 387125.67095517163\n",
      "cluster 15 error 386149.5941851195\n",
      "cluster 16 error 386905.93672083144\n",
      "cluster 17 error 386735.38724336924\n",
      "cluster 18 error 386332.7584477437\n",
      "cluster 19 error 386662.7846062708\n",
      "cluster 20 error 385724.6568586844\n"
     ]
    }
   ],
   "source": [
    "dis_term = []\n",
    "for k in range(2,21):\n",
    "    train1 = term.copy()\n",
    "    km = KMeans(n_clusters = k, random_state = 0).fit(train1)\n",
    "    train1['label'] = km.labels_\n",
    "    td = km_error(train1)\n",
    "    print('cluster', str(k), 'error', td)\n",
    "    dis_term.append(td)"
   ]
  },
  {
   "cell_type": "code",
   "execution_count": 93,
   "metadata": {},
   "outputs": [
    {
     "name": "stdout",
     "output_type": "stream",
     "text": [
      "cluster  3 error  393795.80582557374\n"
     ]
    }
   ],
   "source": [
    "train1 = term.copy()\n",
    "km = KMeans(n_clusters = 3, random_state = 0).fit(train1)\n",
    "train1['label'] = km.labels_\n",
    "td = km_error(train1)\n",
    "print('cluster ', str(3), 'error ', td)"
   ]
  },
  {
   "cell_type": "code",
   "execution_count": null,
   "metadata": {},
   "outputs": [],
   "source": [
    "s2v = []\n",
    "for line in open(\"data/science2k-vocab.txt\"):\n",
    "    line = line.strip('\\n')\n",
    "    s2v.append(line)"
   ]
  },
  {
   "cell_type": "code",
   "execution_count": null,
   "metadata": {},
   "outputs": [],
   "source": [
    "def top10(df):\n",
    "    z = df.drop('label', axis =1 )\n",
    "    m = z.mean(axis = 0)\n",
    "    dis_m = cdist(z, m.reshape(1,-1), 'euclidean')\n",
    "    dis = [a[0] for a in dis_m]\n",
    "    ind = np.argsort(dis)[::-1]\n",
    "    if len(dis) >= 10:\n",
    "        return z.iloc[ind[-10:]]\n",
    "    else:\n",
    "        return z.iloc[ind]\n",
    "top_10_term = train1.groupby('label').apply(top10)"
   ]
  },
  {
   "cell_type": "code",
   "execution_count": null,
   "metadata": {},
   "outputs": [],
   "source": [
    "s2v = pd.DataFrame(s2v)\n",
    "s2v.set_index(top_10_term.index)"
   ]
  }
 ],
 "metadata": {
  "kernelspec": {
   "display_name": "Python 3",
   "language": "python",
   "name": "python3"
  },
  "language_info": {
   "codemirror_mode": {
    "name": "ipython",
    "version": 3
   },
   "file_extension": ".py",
   "mimetype": "text/x-python",
   "name": "python",
   "nbconvert_exporter": "python",
   "pygments_lexer": "ipython3",
   "version": "3.7.4"
  }
 },
 "nbformat": 4,
 "nbformat_minor": 2
}
